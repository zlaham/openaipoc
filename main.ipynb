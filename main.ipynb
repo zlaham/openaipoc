{
 "cells": [
  {
   "cell_type": "code",
   "execution_count": null,
   "metadata": {},
   "outputs": [],
   "source": [
    "# Run this only once.\n",
    "# import aws_s3_data_handler\n",
    "# csv_filenames = aws_s3_data_handler.download_zip_and_load_to_destination_bucket()"
   ]
  },
  {
   "cell_type": "code",
   "execution_count": null,
   "metadata": {},
   "outputs": [],
   "source": [
    "csv_filenames = ['syhdr_commercial_inpatient_2016.csv',\n",
    " 'syhdr_commercial_outpatient_2016.csv',\n",
    " 'syhdr_commercial_person_2016.csv',\n",
    " 'syhdr_commercial_pharmacy_2016.csv',\n",
    " 'syhdr_medicaid_inpatient_2016.csv',\n",
    " 'syhdr_medicaid_outpatient_2016.csv',\n",
    " 'syhdr_medicaid_person_2016.csv',\n",
    " 'syhdr_medicaid_pharmacy_2016.csv',\n",
    " 'syhdr_medicaid_provider_2016.csv',\n",
    " 'syhdr_medicare_inpatient_2016.csv',\n",
    " 'syhdr_medicare_outpatient_2016.csv',\n",
    " 'syhdr_medicare_person_2016.csv',\n",
    " 'syhdr_medicare_pharmacy_2016.csv',\n",
    " 'syhdr_medicare_provider_2016.csv']"
   ]
  },
  {
   "cell_type": "code",
   "execution_count": null,
   "metadata": {},
   "outputs": [],
   "source": [
    "import aws_s3_data_handler\n",
    "csv_paths = aws_s3_data_handler.return_csv_files(csv_filenames)"
   ]
  },
  {
   "cell_type": "code",
   "execution_count": null,
   "metadata": {},
   "outputs": [],
   "source": [
    "import data_handler\n",
    "import database_handler\n",
    "db_session = database_handler.create_connection()\n",
    "dict_list = list()\n",
    "for csv_path in csv_paths:\n",
    "    pandas_df = data_handler.return_pandas_df_from_csv(csv_path)\n",
    "    table_name = csv_path.split('/')[3].split('.')[0].replace('syhdr_','').replace('_2016','')\n",
    "    stmtnt = data_handler.return_create_statement_from_df(pandas_df,'sydh_data',table_name)\n",
    "    database_handler.execute_query(db_session, stmtnt)\n",
    "    stmtnt = data_handler.return_truncate_statement('sydh_data',table_name)\n",
    "    database_handler.execute_query(db_session, stmtnt)\n",
    "    stmtnt = data_handler.return_insert_statement_from_df(pandas_df,'sydh_data',table_name)\n",
    "    database_handler.execute_query(db_session, stmtnt)\n",
    "    dict_item = {}\n",
    "    dict_item['table_name'] = table_name\n",
    "    dict_item['columns'] =  pandas_df.columns.tolist()\n",
    "    dict_item['sample_data'] = pandas_df.head(2)\n",
    "    dict_list.append(dict_item)\n",
    "database_handler.close_connection(db_session)"
   ]
  },
  {
   "cell_type": "code",
   "execution_count": null,
   "metadata": {},
   "outputs": [],
   "source": [
    "import pandas as pd\n",
    "summary_df = pd.DataFrame(dict_list)\n",
    "summary_df.to_csv('summary.csv')"
   ]
  },
  {
   "cell_type": "code",
   "execution_count": 1,
   "metadata": {},
   "outputs": [],
   "source": [
    "import pandas as pd\n",
    "summary_df =pd.read_csv('summary.csv')"
   ]
  },
  {
   "cell_type": "code",
   "execution_count": 2,
   "metadata": {},
   "outputs": [],
   "source": [
    "import data_handler\n",
    "table_data = data_handler.return_df_as_table_data(summary_df)"
   ]
  },
  {
   "cell_type": "code",
   "execution_count": 3,
   "metadata": {},
   "outputs": [],
   "source": [
    "import openai_handler\n",
    "response_data = openai_handler.open_ai_run_analysis(table_data, \"Give me all the tables that are commercial\")"
   ]
  },
  {
   "cell_type": "code",
   "execution_count": 4,
   "metadata": {},
   "outputs": [],
   "source": [
    "response = response_data.choices[0].message.content"
   ]
  },
  {
   "cell_type": "code",
   "execution_count": 5,
   "metadata": {},
   "outputs": [
    {
     "name": "stdout",
     "output_type": "stream",
     "text": [
      "To define the relationship between the two tables `commercial_inpatient` and `commercial_outpatient`, we will analyze their structures and how they interact in the context of a healthcare database.\n",
      "\n",
      "### Table Overview:\n",
      "\n",
      "1. **commercial_inpatient**:\n",
      "   - This table represents inpatient claims for patients receiving care in a hospital or healthcare facility. \n",
      "   - Key identifiers include:\n",
      "     - **PERSON_ID**: Unique identifier for each patient.\n",
      "     - **FACILITY_ID**: Identifier for the healthcare facility providing the service.\n",
      "     - **CLM_CNTL_NUM**: Claim control number to track the specific claim.\n",
      "   - Contains numerous clinical and billing details such as admission type, diagnosis codes, procedure codes, and financial amounts.\n",
      "\n",
      "2. **commercial_outpatient**:\n",
      "   - This table represents outpatient claims for patients receiving care but not admitted to a facility.\n",
      "   - Key identifiers include:\n",
      "     - **PERSON_ID**: Unique identifier for each patient (the same as in the inpatient table).\n",
      "     - **FACILITY_ID**: Identifier for the healthcare facility.\n",
      "     - **CLM_CNTL_NUM**: Similar tracking number for outpatient claims.\n",
      "   - Also contains detailed clinical, billing, and treatment-related information.\n",
      "\n",
      "### Relationship Analysis:\n",
      "\n",
      "- **Primary Keys**:\n",
      "  - In both tables, `PERSON_ID`, `FACILITY_ID`, and `CLM_CNTL_NUM` can collectively serve (or be modified to serve) as a composite primary key if no duplicate claims for the same service exist.\n",
      "  \n",
      "- **Foreign Keys**:\n",
      "  - `PERSON_ID` in both tables can be seen as a foreign key referencing a shared `commercial_person` table (if created) that stores additional patient information.\n",
      "  - `FACILITY_ID` can be set up to reference a `facility` or `provider` table that holds information about the healthcare facilities (like `medicaid_provider` and `medicare_provider`).\n",
      "  \n",
      "- **Relationships**:\n",
      "  - **One-to-Many Relationship**:\n",
      "    - Each **person** (identified by `PERSON_ID`) can have multiple **inpatient claims** in the `commercial_inpatient` table.\n",
      "    - Each **person** can also have multiple **outpatient claims** in the `commercial_outpatient` table.\n",
      "  - Therefore, within the context of a single **person**, there can be multiple entries in both tables. This illustrates a one-to-many relationship from the `commercial_person` (or derived entity using `PERSON_ID`) to both `commercial_inpatient` and `commercial_outpatient`, and also a many-to-one relationship from both claims tables back to the single person entry.\n",
      "  \n",
      "### Proposed Relationship Illustration:\n",
      "```\n",
      "+-------------------+        +---------------------+\n",
      "| commercial_person |        | commercial_inpatient |\n",
      "|-------------------| 1    * |---------------------|\n",
      "| PERSON_ID (PK)    |--------| PERSON_ID (FK)      |\n",
      "| ...               |        | FACILITY_ID (FK)    |\n",
      "+-------------------+        | CLM_CNTL_NUM (FK)   |\n",
      "                            +---------------------+\n",
      "                             \n",
      "+---------------------+ \n",
      "| commercial_outpatient | \n",
      "|-----------------------| \n",
      "| PERSON_ID (FK)       | \n",
      "| FACILITY_ID (FK)     | \n",
      "| CLM_CNTL_NUM (FK)    | \n",
      "+-----------------------+\n",
      "```\n",
      "\n",
      "### Summary:\n",
      "- **Primary Keys**: Could be defined as a composite key based on `PERSON_ID`, `FACILITY_ID`, and `CLM_CNTL_NUM`.\n",
      "- **Foreign Keys**: \n",
      "  - `PERSON_ID` references a person record.\n",
      "  - `FACILITY_ID` can reference a provider record.\n",
      "  \n",
      "This structured relationship captures how inpatient and outpatient records are related for each individual patient in a healthcare scenario.\n"
     ]
    }
   ],
   "source": [
    "print(response)"
   ]
  }
 ],
 "metadata": {
  "kernelspec": {
   "display_name": "datasphere_env",
   "language": "python",
   "name": "python3"
  },
  "language_info": {
   "codemirror_mode": {
    "name": "ipython",
    "version": 3
   },
   "file_extension": ".py",
   "mimetype": "text/x-python",
   "name": "python",
   "nbconvert_exporter": "python",
   "pygments_lexer": "ipython3",
   "version": "3.9.13"
  }
 },
 "nbformat": 4,
 "nbformat_minor": 2
}
