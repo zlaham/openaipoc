{
 "cells": [
  {
   "cell_type": "code",
   "execution_count": 29,
   "metadata": {},
   "outputs": [],
   "source": [
    "csv_filenames = ['syhdr_commercial_inpatient_2016.csv',\n",
    " 'syhdr_commercial_outpatient_2016.csv',\n",
    " 'syhdr_commercial_person_2016.csv',\n",
    " 'syhdr_commercial_pharmacy_2016.csv',\n",
    " 'syhdr_medicaid_inpatient_2016.csv',\n",
    " 'syhdr_medicaid_outpatient_2016.csv',\n",
    " 'syhdr_medicaid_person_2016.csv',\n",
    " 'syhdr_medicaid_pharmacy_2016.csv',\n",
    " 'syhdr_medicaid_provider_2016.csv',\n",
    " 'syhdr_medicare_inpatient_2016.csv',\n",
    " 'syhdr_medicare_outpatient_2016.csv',\n",
    " 'syhdr_medicare_person_2016.csv',\n",
    " 'syhdr_medicare_pharmacy_2016.csv',\n",
    " 'syhdr_medicare_provider_2016.csv']"
   ]
  },
  {
   "cell_type": "code",
   "execution_count": 28,
   "metadata": {},
   "outputs": [],
   "source": [
    "import aws_s3_data_handler\n",
    "csv_paths = aws_s3_data_handler.return_csv_files(csv_filenames)"
   ]
  },
  {
   "cell_type": "code",
   "execution_count": 30,
   "metadata": {},
   "outputs": [
    {
     "data": {
      "text/plain": [
       "['s3://processed.lenora.dataset/syhdr_commercial_inpatient_2016.csv',\n",
       " 's3://processed.lenora.dataset/syhdr_commercial_outpatient_2016.csv',\n",
       " 's3://processed.lenora.dataset/syhdr_commercial_person_2016.csv',\n",
       " 's3://processed.lenora.dataset/syhdr_commercial_pharmacy_2016.csv',\n",
       " 's3://processed.lenora.dataset/syhdr_medicaid_inpatient_2016.csv',\n",
       " 's3://processed.lenora.dataset/syhdr_medicaid_outpatient_2016.csv',\n",
       " 's3://processed.lenora.dataset/syhdr_medicaid_person_2016.csv',\n",
       " 's3://processed.lenora.dataset/syhdr_medicaid_pharmacy_2016.csv',\n",
       " 's3://processed.lenora.dataset/syhdr_medicaid_provider_2016.csv',\n",
       " 's3://processed.lenora.dataset/syhdr_medicare_inpatient_2016.csv',\n",
       " 's3://processed.lenora.dataset/syhdr_medicare_outpatient_2016.csv',\n",
       " 's3://processed.lenora.dataset/syhdr_medicare_person_2016.csv',\n",
       " 's3://processed.lenora.dataset/syhdr_medicare_pharmacy_2016.csv',\n",
       " 's3://processed.lenora.dataset/syhdr_medicare_provider_2016.csv']"
      ]
     },
     "execution_count": 30,
     "metadata": {},
     "output_type": "execute_result"
    }
   ],
   "source": [
    "csv_paths"
   ]
  },
  {
   "cell_type": "code",
   "execution_count": null,
   "metadata": {},
   "outputs": [],
   "source": [
    "import data_handler\n",
    "pandas_df = data_handler.return_pandas_df_from_csv('chosen combobox item')\n",
    "import cryptography_handler\n",
    "import os\n",
    "import pandas as pd\n",
    "from pandasai import Agent\n",
    "\n",
    "encrypted_val = b'gAAAAABm9fuEW69QQqx9iJj-d7mprLSD_YGeHMmK4MN91z_CwEAJ6YK9dC2v8_9OXfOVx2My8NV-whI0Nff-OG1iJCJcxh8Mvltm4ATeto4Gl8Rvph9JHbRsMEUHsfaFTmmvLXy0WBhwTIwfslvaytSkzk6kOEWNxjh8t4XZZKY3bebAptDnyNn2leK9tZIdRzTV1iiHym987eA-HmvmPx6RUdWrJHuP3W0g8OAgVG5cUJbth2WeAIM0K5IqBFqarvlvDw7RYVDPnPRy2pwq6VaGrzfTXZDQ4mf6wvQ8NHddIfvQbmPHqpE='\n",
    "key = cryptography_handler.load_key()\n",
    "open_ai_key = cryptography_handler.decrypt_api_key(encrypted_val, key)\n",
    "from langchain_experimental.agents import create_pandas_dataframe_agent\n",
    "from langchain_openai import ChatOpenAI\n",
    "from langchain.agents.agent_types import AgentType\n",
    "import os\n",
    "os.environ[\"OPENAI_API_KEY\"] = open_ai_key\n",
    "llm = ChatOpenAI(model = 'gpt-4', temperature = 0)\n",
    "agent = create_pandas_dataframe_agent(llm, pandas_df,verbose= True, allow_dangerous_code= True)\n",
    "agent.invoke('What is the most correlated columns, choose 3')"
   ]
  },
  {
   "cell_type": "code",
   "execution_count": null,
   "metadata": {},
   "outputs": [],
   "source": [
    "import data_handler\n",
    "pandas_df = data_handler.return_pandas_df_from_csv(csv_paths[3])\n",
    "from pandas_profiling import ProfileReport\n",
    "profile = ProfileReport(pandas_df, title=\"commercial_pharmacy\", explorative=True)\n",
    "profile.to_file(\"commercial_pharmacy.html\")"
   ]
  }
 ],
 "metadata": {
  "kernelspec": {
   "display_name": "datasphere_env",
   "language": "python",
   "name": "python3"
  },
  "language_info": {
   "codemirror_mode": {
    "name": "ipython",
    "version": 3
   },
   "file_extension": ".py",
   "mimetype": "text/x-python",
   "name": "python",
   "nbconvert_exporter": "python",
   "pygments_lexer": "ipython3",
   "version": "3.9.20"
  }
 },
 "nbformat": 4,
 "nbformat_minor": 2
}
